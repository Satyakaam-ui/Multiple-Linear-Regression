{
 "cells": [
  {
   "cell_type": "code",
   "execution_count": 1,
   "id": "63fbfd1d",
   "metadata": {},
   "outputs": [],
   "source": [
    "import numpy as np\n",
    "import pandas as pd\n",
    "import matplotlib.pyplot as plt"
   ]
  },
  {
   "cell_type": "code",
   "execution_count": 2,
   "id": "2e4542b4",
   "metadata": {},
   "outputs": [],
   "source": [
    "data = pd.read_csv(\"50_Startups.csv\")\n",
    "F_data = data.iloc[:,:-1].values\n",
    "T_data = data.iloc[:,-1].values\n",
    "# print(T_data)\n",
    "# data.head()"
   ]
  },
  {
   "cell_type": "code",
   "execution_count": 3,
   "id": "52186dbc",
   "metadata": {},
   "outputs": [],
   "source": [
    "from sklearn.compose import ColumnTransformer\n",
    "from sklearn.preprocessing import OneHotEncoder\n",
    "CT = ColumnTransformer(transformers=[('encoder', OneHotEncoder(),[3])], remainder = 'passthrough')\n",
    "F_data = np.array(CT.fit_transform(F_data))"
   ]
  },
  {
   "cell_type": "code",
   "execution_count": 4,
   "id": "2d48820f",
   "metadata": {},
   "outputs": [
    {
     "name": "stdout",
     "output_type": "stream",
     "text": [
      "[192261.83 191792.06 191050.39 182901.99 166187.94 156991.12 156122.51\n",
      " 155752.6  152211.77 149759.96 146121.95 144259.4  141585.52 134307.35\n",
      " 132602.65 129917.04 126992.93 125370.37 124266.9  122776.86 118474.03\n",
      " 111313.02 110352.25 108733.99 108552.04 107404.34 105733.54 105008.31\n",
      " 103282.38 101004.64  99937.59  97483.56  97427.84  96778.92  96712.8\n",
      "  96479.51  90708.19  89949.14  81229.06  81005.76  78239.91  77798.83\n",
      "  71498.49  69758.98  65200.33  64926.08  49490.75  42559.73  35673.41\n",
      "  14681.4 ]\n"
     ]
    }
   ],
   "source": [
    "print(T_data)"
   ]
  },
  {
   "cell_type": "code",
   "execution_count": 5,
   "id": "eeb40eb4",
   "metadata": {},
   "outputs": [],
   "source": [
    "from sklearn.model_selection import train_test_split\n",
    "F_data_train,F_data_test,T_data_train,T_data_test = train_test_split(F_data, T_data, test_size=0.2, random_state=1)"
   ]
  },
  {
   "cell_type": "code",
   "execution_count": 6,
   "id": "4218aeb5",
   "metadata": {},
   "outputs": [
    {
     "name": "stdout",
     "output_type": "stream",
     "text": [
      "[ 97427.84  81005.76 111313.02  90708.19 122776.86  71498.49  14681.4\n",
      " 105733.54 110352.25 134307.35  77798.83 125370.37  64926.08 108552.04\n",
      " 108733.99 166187.94  96778.92 132602.65  99937.59 146121.95 103282.38\n",
      "  65200.33  96712.8  124266.9  118474.03 107404.34 156122.51 155752.6\n",
      "  42559.73 191792.06 126992.93 192261.83 129917.04 156991.12 144259.4\n",
      " 149759.96 152211.77 141585.52  69758.98  89949.14]\n"
     ]
    }
   ],
   "source": [
    "print(T_data_train)"
   ]
  },
  {
   "cell_type": "code",
   "execution_count": 7,
   "id": "ab549c5b",
   "metadata": {},
   "outputs": [
    {
     "data": {
      "text/plain": [
       "LinearRegression()"
      ]
     },
     "execution_count": 7,
     "metadata": {},
     "output_type": "execute_result"
    }
   ],
   "source": [
    "from sklearn.linear_model import LinearRegression\n",
    "Reg = LinearRegression()\n",
    "Reg.fit(F_data_train,T_data_train)"
   ]
  },
  {
   "cell_type": "code",
   "execution_count": 8,
   "id": "3d0837dd",
   "metadata": {},
   "outputs": [
    {
     "name": "stdout",
     "output_type": "stream",
     "text": [
      "[[114664.42 105008.31]\n",
      " [ 90593.16  96479.51]\n",
      " [ 75692.84  78239.91]\n",
      " [ 70221.89  81229.06]\n",
      " [179790.26 191050.39]\n",
      " [171576.92 182901.99]\n",
      " [ 49753.59  35673.41]\n",
      " [102276.66 101004.64]\n",
      " [ 58649.38  49490.75]\n",
      " [ 98272.03  97483.56]]\n"
     ]
    }
   ],
   "source": [
    "T_pred = Reg.predict(F_data_test)\n",
    "np.set_printoptions(precision=2)\n",
    "print(np.concatenate((T_pred.reshape(len(T_pred),1), T_data_test.reshape(len(T_data_test),1)),1))"
   ]
  },
  {
   "cell_type": "code",
   "execution_count": 11,
   "id": "8075068f",
   "metadata": {},
   "outputs": [
    {
     "data": {
      "text/plain": [
       "0.9649618042060633"
      ]
     },
     "execution_count": 11,
     "metadata": {},
     "output_type": "execute_result"
    }
   ],
   "source": [
    "from sklearn.metrics import r2_score\n",
    "r2_score(T_data_test, T_pred)"
   ]
  },
  {
   "cell_type": "code",
   "execution_count": 13,
   "id": "f91d992b",
   "metadata": {},
   "outputs": [
    {
     "data": {
      "text/plain": [
       "7698.119817483454"
      ]
     },
     "execution_count": 13,
     "metadata": {},
     "output_type": "execute_result"
    }
   ],
   "source": [
    "from sklearn.metrics import mean_absolute_error\n",
    "mean_absolute_error(T_data_test, T_pred)"
   ]
  },
  {
   "cell_type": "code",
   "execution_count": null,
   "id": "4ce24b2c",
   "metadata": {},
   "outputs": [],
   "source": []
  }
 ],
 "metadata": {
  "kernelspec": {
   "display_name": "Python 3",
   "language": "python",
   "name": "python3"
  },
  "language_info": {
   "codemirror_mode": {
    "name": "ipython",
    "version": 3
   },
   "file_extension": ".py",
   "mimetype": "text/x-python",
   "name": "python",
   "nbconvert_exporter": "python",
   "pygments_lexer": "ipython3",
   "version": "3.8.8"
  }
 },
 "nbformat": 4,
 "nbformat_minor": 5
}
